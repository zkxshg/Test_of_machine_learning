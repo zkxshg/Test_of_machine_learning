{
 "cells": [
  {
   "cell_type": "code",
   "execution_count": 1,
   "metadata": {},
   "outputs": [],
   "source": [
    "rules = {} \n",
    "\n",
    "def readRules(filePath):\n",
    "    global rules\n",
    "    for line in open(filePath, mode = 'r', encoding = 'utf-8'):\n",
    "        line = line.replace('if', '').strip()\n",
    "        temp = line.split(' then ')\n",
    "        premise = temp[0]\n",
    "        conclusion = temp[1]\n",
    "        rules[premise] = conclusion"
   ]
  },
  {
   "cell_type": "code",
   "execution_count": 2,
   "metadata": {},
   "outputs": [],
   "source": [
    "def matchRules(facts): \n",
    "    print()\n",
    "    \n",
    "    # 循环匹配规则\n",
    "    isEnd = False\n",
    "    def loop():\n",
    "        global rules\n",
    "        nonlocal facts, isEnd\n",
    "        rules_copy = rules.copy()\n",
    "        i = 0\n",
    "        for premise in rules:\n",
    "            flag = True\n",
    "            pre = premise.split(' and ')\n",
    "            for p in pre:\n",
    "                if p in facts:\n",
    "                    pass\n",
    "                else:\n",
    "                    flag = False\n",
    "            if(flag):\n",
    "                print('该动物：' + premise + ' -> ' + rules[premise])\n",
    "                for p in pre:\n",
    "                    facts = facts.replace(p, ' ')\n",
    "                facts = facts + rules[premise]\n",
    "                rules_copy.pop(premise)\n",
    "            else:\n",
    "                i += 1\n",
    "        if i == len(rules):\n",
    "            isEnd = True\n",
    "        rules = rules_copy\n",
    "\n",
    "    # 是否推导出最终结论     \n",
    "    while(not isEnd):\n",
    "        loop()"
   ]
  },
  {
   "cell_type": "code",
   "execution_count": 4,
   "metadata": {},
   "outputs": [],
   "source": [
    "def ui():\n",
    "    print('====')\n",
    "    print('========动物识别系统========')\n",
    "    print('====')\n",
    "    print('注意！请按照规则库中的前提来阐述事实', end='\\n\\n')\n",
    "    facts = input('请输入事实：')\n",
    "    matchRules(facts)"
   ]
  },
  {
   "cell_type": "code",
   "execution_count": 5,
   "metadata": {},
   "outputs": [
    {
     "name": "stdout",
     "output_type": "stream",
     "text": [
      "====\n",
      "========动物识别系统========\n",
      "====\n",
      "注意！请按照规则库中的前提来阐述事实\n",
      "\n",
      "请输入事实：有毛发 吃肉 黄褐色 暗斑点\n",
      "\n",
      "该动物：有毛发 -> 哺乳动物\n",
      "该动物：吃肉 -> 食肉动物\n",
      "该动物：哺乳动物 and 食肉动物 and 黄褐色 and 暗斑点 -> 豹子\n"
     ]
    }
   ],
   "source": [
    "filePath = 'rule.txt'\n",
    "readRules(filePath)\n",
    "ui()"
   ]
  },
  {
   "cell_type": "code",
   "execution_count": null,
   "metadata": {},
   "outputs": [],
   "source": []
  }
 ],
 "metadata": {
  "kernelspec": {
   "display_name": "Python 3",
   "language": "python",
   "name": "python3"
  },
  "language_info": {
   "codemirror_mode": {
    "name": "ipython",
    "version": 3
   },
   "file_extension": ".py",
   "mimetype": "text/x-python",
   "name": "python",
   "nbconvert_exporter": "python",
   "pygments_lexer": "ipython3",
   "version": "3.7.6"
  }
 },
 "nbformat": 4,
 "nbformat_minor": 4
}
