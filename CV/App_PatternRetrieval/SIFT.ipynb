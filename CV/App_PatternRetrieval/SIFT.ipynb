{
 "cells": [
  {
   "cell_type": "code",
   "execution_count": 1,
   "metadata": {},
   "outputs": [
    {
     "name": "stderr",
     "output_type": "stream",
     "text": [
      "D:\\ProgramData\\Anaconda3\\lib\\site-packages\\numpy\\_distributor_init.py:32: UserWarning: loaded more than 1 DLL from .libs:\n",
      "D:\\ProgramData\\Anaconda3\\lib\\site-packages\\numpy\\.libs\\libopenblas.TXA6YQSD3GCQQC22GEQ54J2UDCXDXHWN.gfortran-win_amd64.dll\n",
      "D:\\ProgramData\\Anaconda3\\lib\\site-packages\\numpy\\.libs\\libopenblas.XWYDX2IKJW2NMTWSFYNGFUWKQU3LYTCZ.gfortran-win_amd64.dll\n",
      "  stacklevel=1)\n"
     ]
    }
   ],
   "source": [
    "import cv2\n",
    "import numpy as np\n",
    "import os\n",
    "import matplotlib.pyplot as plt\n",
    "import matplotlib.image as mpimg\n",
    "\n",
    "import time"
   ]
  },
  {
   "cell_type": "code",
   "execution_count": 2,
   "metadata": {},
   "outputs": [],
   "source": [
    "# 定义函数来提取SIFT特征\n",
    "def extract_sift_features_oldCV(image_path):\n",
    "    image = cv2.imread(image_path)\n",
    "    sift = cv2.xfeatures2d.SIFT_create()\n",
    "    kp, des = sift.detectAndCompute(image, None)\n",
    "    \n",
    "    sift = cv2.SIFT_create()\n",
    "    kp = sift.detect(gimg,None)\n",
    "    img=cv2.drawKeypoints(gimg,kp,img)\n",
    "    plt.imshow(img)\n",
    "    \n",
    "    return des"
   ]
  },
  {
   "cell_type": "code",
   "execution_count": 3,
   "metadata": {},
   "outputs": [],
   "source": [
    "# 定义函数来提取SIFT特征并绘制关键点\n",
    "def extract_sift_features(image_path):\n",
    "    image = cv2.imread(image_path)\n",
    "    gray_image = cv2.cvtColor(image, cv2.COLOR_BGR2GRAY)\n",
    "    sift = cv2.SIFT_create()\n",
    "    keypoints, des = sift.detectAndCompute(gray_image, None)\n",
    "    \n",
    "    image_with_keypoints = cv2.drawKeypoints(gray_image, keypoints, image)\n",
    "    #plt.imshow(image_with_keypoints)\n",
    "    #plt.show()\n",
    "\n",
    "    return des"
   ]
  },
  {
   "cell_type": "code",
   "execution_count": 4,
   "metadata": {},
   "outputs": [],
   "source": [
    "# 定义函数来计算特征匹配\n",
    "def compute_matches(des1, des2):\n",
    "    bf = cv2.BFMatcher()\n",
    "    matches = bf.knnMatch(des1, des2, k=2)\n",
    "    \n",
    "    # 使用Lowe's ratio测试\n",
    "    good_matches = []\n",
    "    for m, n in matches:\n",
    "        if m.distance < 0.75 * n.distance:\n",
    "            good_matches.append([m])\n",
    "            \n",
    "    return len(good_matches)"
   ]
  },
  {
   "cell_type": "code",
   "execution_count": 5,
   "metadata": {},
   "outputs": [],
   "source": [
    "# 定义函数进行图像检索\n",
    "def image_retrieval(input_image_path, image_db_path):\n",
    "    input_des = extract_sift_features(input_image_path)\n",
    "\n",
    "    # 遍历数据库中的每张图像，计算特征匹配\n",
    "    match_results = []\n",
    "    for image_name in os.listdir(image_db_path):\n",
    "        image_path = os.path.join(image_db_path, image_name)\n",
    "        print(\"正在匹配图片：\", image_path)\n",
    "        db_des = extract_sift_features(image_path)\n",
    "        \n",
    "        num_matches = compute_matches(input_des, db_des)\n",
    "        match_results.append((image_path, num_matches))\n",
    "\n",
    "    # 按照相似度（匹配特征的数量）降序排序\n",
    "    match_results.sort(key=lambda x: x[1], reverse=True)\n",
    "\n",
    "    # 返回数据库中的图片路径，按相似度降序\n",
    "    return match_results"
   ]
  },
  {
   "cell_type": "code",
   "execution_count": 6,
   "metadata": {
    "scrolled": true
   },
   "outputs": [],
   "source": [
    "# # 使用函数\n",
    "# input_image_path = \"test1.jpg\"\n",
    "# image_db_path = \"./data/\"\n",
    "# match_results = image_retrieval(input_image_path, image_db_path)\n",
    "\n",
    "# # 打印结果\n",
    "# for image_path, num_matches in match_results:\n",
    "#     print(f\"Image path: {image_path}, Number of matches: {num_matches}\")"
   ]
  },
  {
   "cell_type": "code",
   "execution_count": 7,
   "metadata": {},
   "outputs": [
    {
     "ename": "AttributeError",
     "evalue": "module 'cv2' has no attribute 'imread'",
     "output_type": "error",
     "traceback": [
      "\u001b[1;31m---------------------------------------------------------------------------\u001b[0m",
      "\u001b[1;31mAttributeError\u001b[0m                            Traceback (most recent call last)",
      "\u001b[1;32m<ipython-input-7-a43f83d4475e>\u001b[0m in \u001b[0;36m<module>\u001b[1;34m\u001b[0m\n\u001b[0;32m      4\u001b[0m \u001b[1;33m\u001b[0m\u001b[0m\n\u001b[0;32m      5\u001b[0m \u001b[0mstart_time\u001b[0m \u001b[1;33m=\u001b[0m \u001b[0mtime\u001b[0m\u001b[1;33m.\u001b[0m\u001b[0mtime\u001b[0m\u001b[1;33m(\u001b[0m\u001b[1;33m)\u001b[0m  \u001b[1;31m# 开始计时\u001b[0m\u001b[1;33m\u001b[0m\u001b[1;33m\u001b[0m\u001b[0m\n\u001b[1;32m----> 6\u001b[1;33m \u001b[0mmatch_results\u001b[0m \u001b[1;33m=\u001b[0m \u001b[0mimage_retrieval\u001b[0m\u001b[1;33m(\u001b[0m\u001b[0minput_image_path\u001b[0m\u001b[1;33m,\u001b[0m \u001b[0mimage_db_path\u001b[0m\u001b[1;33m)\u001b[0m\u001b[1;33m\u001b[0m\u001b[1;33m\u001b[0m\u001b[0m\n\u001b[0m\u001b[0;32m      7\u001b[0m \u001b[0mend_time\u001b[0m \u001b[1;33m=\u001b[0m \u001b[0mtime\u001b[0m\u001b[1;33m.\u001b[0m\u001b[0mtime\u001b[0m\u001b[1;33m(\u001b[0m\u001b[1;33m)\u001b[0m  \u001b[1;31m# 结束计时\u001b[0m\u001b[1;33m\u001b[0m\u001b[1;33m\u001b[0m\u001b[0m\n\u001b[0;32m      8\u001b[0m \u001b[1;33m\u001b[0m\u001b[0m\n",
      "\u001b[1;32m<ipython-input-5-7ab4bc940788>\u001b[0m in \u001b[0;36mimage_retrieval\u001b[1;34m(input_image_path, image_db_path)\u001b[0m\n\u001b[0;32m      1\u001b[0m \u001b[1;31m# 定义函数进行图像检索\u001b[0m\u001b[1;33m\u001b[0m\u001b[1;33m\u001b[0m\u001b[1;33m\u001b[0m\u001b[0m\n\u001b[0;32m      2\u001b[0m \u001b[1;32mdef\u001b[0m \u001b[0mimage_retrieval\u001b[0m\u001b[1;33m(\u001b[0m\u001b[0minput_image_path\u001b[0m\u001b[1;33m,\u001b[0m \u001b[0mimage_db_path\u001b[0m\u001b[1;33m)\u001b[0m\u001b[1;33m:\u001b[0m\u001b[1;33m\u001b[0m\u001b[1;33m\u001b[0m\u001b[0m\n\u001b[1;32m----> 3\u001b[1;33m     \u001b[0minput_des\u001b[0m \u001b[1;33m=\u001b[0m \u001b[0mextract_sift_features\u001b[0m\u001b[1;33m(\u001b[0m\u001b[0minput_image_path\u001b[0m\u001b[1;33m)\u001b[0m\u001b[1;33m\u001b[0m\u001b[1;33m\u001b[0m\u001b[0m\n\u001b[0m\u001b[0;32m      4\u001b[0m \u001b[1;33m\u001b[0m\u001b[0m\n\u001b[0;32m      5\u001b[0m     \u001b[1;31m# 遍历数据库中的每张图像，计算特征匹配\u001b[0m\u001b[1;33m\u001b[0m\u001b[1;33m\u001b[0m\u001b[1;33m\u001b[0m\u001b[0m\n",
      "\u001b[1;32m<ipython-input-3-610f7304f2b5>\u001b[0m in \u001b[0;36mextract_sift_features\u001b[1;34m(image_path)\u001b[0m\n\u001b[0;32m      1\u001b[0m \u001b[1;31m# 定义函数来提取SIFT特征并绘制关键点\u001b[0m\u001b[1;33m\u001b[0m\u001b[1;33m\u001b[0m\u001b[1;33m\u001b[0m\u001b[0m\n\u001b[0;32m      2\u001b[0m \u001b[1;32mdef\u001b[0m \u001b[0mextract_sift_features\u001b[0m\u001b[1;33m(\u001b[0m\u001b[0mimage_path\u001b[0m\u001b[1;33m)\u001b[0m\u001b[1;33m:\u001b[0m\u001b[1;33m\u001b[0m\u001b[1;33m\u001b[0m\u001b[0m\n\u001b[1;32m----> 3\u001b[1;33m     \u001b[0mimage\u001b[0m \u001b[1;33m=\u001b[0m \u001b[0mcv2\u001b[0m\u001b[1;33m.\u001b[0m\u001b[0mimread\u001b[0m\u001b[1;33m(\u001b[0m\u001b[0mimage_path\u001b[0m\u001b[1;33m)\u001b[0m\u001b[1;33m\u001b[0m\u001b[1;33m\u001b[0m\u001b[0m\n\u001b[0m\u001b[0;32m      4\u001b[0m     \u001b[0mgray_image\u001b[0m \u001b[1;33m=\u001b[0m \u001b[0mcv2\u001b[0m\u001b[1;33m.\u001b[0m\u001b[0mcvtColor\u001b[0m\u001b[1;33m(\u001b[0m\u001b[0mimage\u001b[0m\u001b[1;33m,\u001b[0m \u001b[0mcv2\u001b[0m\u001b[1;33m.\u001b[0m\u001b[0mCOLOR_BGR2GRAY\u001b[0m\u001b[1;33m)\u001b[0m\u001b[1;33m\u001b[0m\u001b[1;33m\u001b[0m\u001b[0m\n\u001b[0;32m      5\u001b[0m     \u001b[0msift\u001b[0m \u001b[1;33m=\u001b[0m \u001b[0mcv2\u001b[0m\u001b[1;33m.\u001b[0m\u001b[0mSIFT_create\u001b[0m\u001b[1;33m(\u001b[0m\u001b[1;33m)\u001b[0m\u001b[1;33m\u001b[0m\u001b[1;33m\u001b[0m\u001b[0m\n",
      "\u001b[1;31mAttributeError\u001b[0m: module 'cv2' has no attribute 'imread'"
     ]
    }
   ],
   "source": [
    "# 使用函数\n",
    "input_image_path = \"test1.jpg\"\n",
    "image_db_path = \"./data/\"\n",
    "\n",
    "start_time = time.time()  # 开始计时\n",
    "match_results = image_retrieval(input_image_path, image_db_path)\n",
    "end_time = time.time()  # 结束计时\n",
    "\n",
    "elapsed_time = end_time - start_time  # 计算耗时\n",
    "print(f\"Elapsed time: {elapsed_time} seconds\")  # 打印耗时\n",
    "\n",
    "# 打印结果并显示最相似的前10张图像\n",
    "fig = plt.figure(figsize=(20, 10))\n",
    "for i, (image_path, num_matches) in enumerate(match_results[:10]):\n",
    "    print(f\"Image path: {image_path}, Number of matches: {num_matches}\")\n",
    "    \n",
    "    # 读取图像并显示\n",
    "    img = mpimg.imread(image_path)\n",
    "    ax = fig.add_subplot(2, 5, i+1)\n",
    "    ax.imshow(img)\n",
    "    ax.set_title(f\"Matches: {num_matches}\")\n",
    "    ax.axis('off')\n",
    "\n",
    "plt.tight_layout()\n",
    "plt.show()"
   ]
  },
  {
   "cell_type": "code",
   "execution_count": null,
   "metadata": {},
   "outputs": [],
   "source": []
  }
 ],
 "metadata": {
  "kernelspec": {
   "display_name": "Python 3",
   "language": "python",
   "name": "python3"
  },
  "language_info": {
   "codemirror_mode": {
    "name": "ipython",
    "version": 3
   },
   "file_extension": ".py",
   "mimetype": "text/x-python",
   "name": "python",
   "nbconvert_exporter": "python",
   "pygments_lexer": "ipython3",
   "version": "3.7.6"
  }
 },
 "nbformat": 4,
 "nbformat_minor": 4
}
