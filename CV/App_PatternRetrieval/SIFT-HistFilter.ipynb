{
 "cells": [
  {
   "cell_type": "code",
   "execution_count": 3,
   "metadata": {},
   "outputs": [],
   "source": [
    "import cv2\n",
    "import numpy as np\n",
    "import os\n",
    "import matplotlib.pyplot as plt\n",
    "import matplotlib.image as mpimg\n",
    "\n",
    "import time"
   ]
  },
  {
   "cell_type": "code",
   "execution_count": 4,
   "metadata": {},
   "outputs": [],
   "source": [
    "# 颜色直方图预筛选函数\n",
    "\n",
    "# 计算色彩直方图\n",
    "def calc_hist(image_path):\n",
    "    image = cv2.imread(image_path)\n",
    "    hist = cv2.calcHist([image], [0, 1, 2], None, [8, 8, 8], [0, 256, 0, 256, 0, 256])\n",
    "    hist = cv2.normalize(hist, hist).flatten()\n",
    "    return hist\n",
    "\n",
    "# 比较直方图\n",
    "def compare_hist(hist1, hist2):\n",
    "    return cv2.compareHist(hist1, hist2, cv2.HISTCMP_CORREL)\n",
    "\n",
    "# 基于颜色进行预筛选\n",
    "def preselect_by_color(input_image_path, image_db_path, topN=10):\n",
    "    input_hist = calc_hist(input_image_path)\n",
    "    \n",
    "    hist_db = []\n",
    "    for image_name in os.listdir(image_db_path):\n",
    "        image_path = os.path.join(image_db_path, image_name)\n",
    "        db_hist = calc_hist(image_path)\n",
    "        similarity = compare_hist(input_hist, db_hist)\n",
    "        hist_db.append((image_path, similarity))\n",
    "    \n",
    "    hist_db.sort(key=lambda x: x[1], reverse=True)\n",
    "    return hist_db[:topN]"
   ]
  },
  {
   "cell_type": "code",
   "execution_count": 8,
   "metadata": {},
   "outputs": [],
   "source": [
    "# 提取SIFT特征-旧OpenCV版本\n",
    "def extract_sift_features_oldCV(image_path):\n",
    "    image = cv2.imread(image_path)\n",
    "    sift = cv2.xfeatures2d.SIFT_create()\n",
    "    kp, des = sift.detectAndCompute(image, None)\n",
    "    \n",
    "    sift = cv2.SIFT_create()\n",
    "    kp = sift.detect(gimg,None)\n",
    "    img=cv2.drawKeypoints(gimg,kp,img)\n",
    "    plt.imshow(img)\n",
    "    \n",
    "    return des\n",
    "\n",
    "# 提取SIFT特征并绘制关键点\n",
    "def extract_sift_features(image_path):\n",
    "    image = cv2.imread(image_path)\n",
    "    gray_image = cv2.cvtColor(image, cv2.COLOR_BGR2GRAY)\n",
    "    sift = cv2.SIFT_create()\n",
    "    keypoints, des = sift.detectAndCompute(gray_image, None)\n",
    "    \n",
    "    image_with_keypoints = cv2.drawKeypoints(gray_image, keypoints, image)\n",
    "    #plt.imshow(image_with_keypoints)\n",
    "    #plt.show()\n",
    "\n",
    "    return des\n",
    "\n",
    "# 计算特征匹配\n",
    "def compute_matches(des1, des2):\n",
    "    bf = cv2.BFMatcher()\n",
    "    matches = bf.knnMatch(des1, des2, k=2)\n",
    "    \n",
    "    # 使用Lowe's ratio测试\n",
    "    good_matches = []\n",
    "    for m, n in matches:\n",
    "        if m.distance < 0.75 * n.distance:\n",
    "            good_matches.append([m])\n",
    "            \n",
    "    return len(good_matches)"
   ]
  },
  {
   "cell_type": "code",
   "execution_count": 9,
   "metadata": {},
   "outputs": [],
   "source": [
    "# 图像检索\n",
    "def image_retrieval(input_image_path, image_db_path):\n",
    "    input_des = extract_sift_features(input_image_path)\n",
    "\n",
    "    # 遍历数据库中的每张图像，计算特征匹配\n",
    "    match_results = []\n",
    "    for image_name in os.listdir(image_db_path):\n",
    "        image_path = os.path.join(image_db_path, image_name)\n",
    "        print(\"正在匹配图片：\", image_path)\n",
    "        db_des = extract_sift_features(image_path)\n",
    "        \n",
    "        num_matches = compute_matches(input_des, db_des)\n",
    "        match_results.append((image_path, num_matches))\n",
    "\n",
    "    # 按照相似度（匹配特征的数量）降序排序\n",
    "    match_results.sort(key=lambda x: x[1], reverse=True)\n",
    "\n",
    "    # 返回数据库中的图片路径，按相似度降序\n",
    "    return match_results"
   ]
  },
  {
   "cell_type": "code",
   "execution_count": 29,
   "metadata": {
    "scrolled": true
   },
   "outputs": [],
   "source": [
    "# # 使用函数\n",
    "# input_image_path = \"test1.jpg\"\n",
    "# image_db_path = \"./data/\"\n",
    "# match_results = image_retrieval(input_image_path, image_db_path)\n",
    "\n",
    "# # 打印结果\n",
    "# for image_path, num_matches in match_results:\n",
    "#     print(f\"Image path: {image_path}, Number of matches: {num_matches}\")"
   ]
  },
  {
   "cell_type": "code",
   "execution_count": 10,
   "metadata": {},
   "outputs": [
    {
     "ename": "AttributeError",
     "evalue": "module 'cv2' has no attribute 'imread'",
     "output_type": "error",
     "traceback": [
      "\u001b[1;31m---------------------------------------------------------------------------\u001b[0m",
      "\u001b[1;31mAttributeError\u001b[0m                            Traceback (most recent call last)",
      "\u001b[1;32m<ipython-input-10-18f24915aa8b>\u001b[0m in \u001b[0;36m<module>\u001b[1;34m\u001b[0m\n\u001b[0;32m      4\u001b[0m \u001b[1;33m\u001b[0m\u001b[0m\n\u001b[0;32m      5\u001b[0m \u001b[1;31m# 首先进行颜色直方图预筛选\u001b[0m\u001b[1;33m\u001b[0m\u001b[1;33m\u001b[0m\u001b[1;33m\u001b[0m\u001b[0m\n\u001b[1;32m----> 6\u001b[1;33m \u001b[0mpreselected_images\u001b[0m \u001b[1;33m=\u001b[0m \u001b[0mpreselect_by_color\u001b[0m\u001b[1;33m(\u001b[0m\u001b[0minput_image_path\u001b[0m\u001b[1;33m,\u001b[0m \u001b[0mimage_db_path\u001b[0m\u001b[1;33m)\u001b[0m\u001b[1;33m\u001b[0m\u001b[1;33m\u001b[0m\u001b[0m\n\u001b[0m\u001b[0;32m      7\u001b[0m \u001b[1;33m\u001b[0m\u001b[0m\n\u001b[0;32m      8\u001b[0m \u001b[0mstart_time\u001b[0m \u001b[1;33m=\u001b[0m \u001b[0mtime\u001b[0m\u001b[1;33m.\u001b[0m\u001b[0mtime\u001b[0m\u001b[1;33m(\u001b[0m\u001b[1;33m)\u001b[0m  \u001b[1;31m# 开始计时\u001b[0m\u001b[1;33m\u001b[0m\u001b[1;33m\u001b[0m\u001b[0m\n",
      "\u001b[1;32m<ipython-input-4-5d47945d184d>\u001b[0m in \u001b[0;36mpreselect_by_color\u001b[1;34m(input_image_path, image_db_path, topN)\u001b[0m\n\u001b[0;32m     14\u001b[0m \u001b[1;31m# 基于颜色进行预筛选\u001b[0m\u001b[1;33m\u001b[0m\u001b[1;33m\u001b[0m\u001b[1;33m\u001b[0m\u001b[0m\n\u001b[0;32m     15\u001b[0m \u001b[1;32mdef\u001b[0m \u001b[0mpreselect_by_color\u001b[0m\u001b[1;33m(\u001b[0m\u001b[0minput_image_path\u001b[0m\u001b[1;33m,\u001b[0m \u001b[0mimage_db_path\u001b[0m\u001b[1;33m,\u001b[0m \u001b[0mtopN\u001b[0m\u001b[1;33m=\u001b[0m\u001b[1;36m10\u001b[0m\u001b[1;33m)\u001b[0m\u001b[1;33m:\u001b[0m\u001b[1;33m\u001b[0m\u001b[1;33m\u001b[0m\u001b[0m\n\u001b[1;32m---> 16\u001b[1;33m     \u001b[0minput_hist\u001b[0m \u001b[1;33m=\u001b[0m \u001b[0mcalc_hist\u001b[0m\u001b[1;33m(\u001b[0m\u001b[0minput_image_path\u001b[0m\u001b[1;33m)\u001b[0m\u001b[1;33m\u001b[0m\u001b[1;33m\u001b[0m\u001b[0m\n\u001b[0m\u001b[0;32m     17\u001b[0m \u001b[1;33m\u001b[0m\u001b[0m\n\u001b[0;32m     18\u001b[0m     \u001b[0mhist_db\u001b[0m \u001b[1;33m=\u001b[0m \u001b[1;33m[\u001b[0m\u001b[1;33m]\u001b[0m\u001b[1;33m\u001b[0m\u001b[1;33m\u001b[0m\u001b[0m\n",
      "\u001b[1;32m<ipython-input-4-5d47945d184d>\u001b[0m in \u001b[0;36mcalc_hist\u001b[1;34m(image_path)\u001b[0m\n\u001b[0;32m      3\u001b[0m \u001b[1;31m# 计算色彩直方图\u001b[0m\u001b[1;33m\u001b[0m\u001b[1;33m\u001b[0m\u001b[1;33m\u001b[0m\u001b[0m\n\u001b[0;32m      4\u001b[0m \u001b[1;32mdef\u001b[0m \u001b[0mcalc_hist\u001b[0m\u001b[1;33m(\u001b[0m\u001b[0mimage_path\u001b[0m\u001b[1;33m)\u001b[0m\u001b[1;33m:\u001b[0m\u001b[1;33m\u001b[0m\u001b[1;33m\u001b[0m\u001b[0m\n\u001b[1;32m----> 5\u001b[1;33m     \u001b[0mimage\u001b[0m \u001b[1;33m=\u001b[0m \u001b[0mcv2\u001b[0m\u001b[1;33m.\u001b[0m\u001b[0mimread\u001b[0m\u001b[1;33m(\u001b[0m\u001b[0mimage_path\u001b[0m\u001b[1;33m)\u001b[0m\u001b[1;33m\u001b[0m\u001b[1;33m\u001b[0m\u001b[0m\n\u001b[0m\u001b[0;32m      6\u001b[0m     \u001b[0mhist\u001b[0m \u001b[1;33m=\u001b[0m \u001b[0mcv2\u001b[0m\u001b[1;33m.\u001b[0m\u001b[0mcalcHist\u001b[0m\u001b[1;33m(\u001b[0m\u001b[1;33m[\u001b[0m\u001b[0mimage\u001b[0m\u001b[1;33m]\u001b[0m\u001b[1;33m,\u001b[0m \u001b[1;33m[\u001b[0m\u001b[1;36m0\u001b[0m\u001b[1;33m,\u001b[0m \u001b[1;36m1\u001b[0m\u001b[1;33m,\u001b[0m \u001b[1;36m2\u001b[0m\u001b[1;33m]\u001b[0m\u001b[1;33m,\u001b[0m \u001b[1;32mNone\u001b[0m\u001b[1;33m,\u001b[0m \u001b[1;33m[\u001b[0m\u001b[1;36m8\u001b[0m\u001b[1;33m,\u001b[0m \u001b[1;36m8\u001b[0m\u001b[1;33m,\u001b[0m \u001b[1;36m8\u001b[0m\u001b[1;33m]\u001b[0m\u001b[1;33m,\u001b[0m \u001b[1;33m[\u001b[0m\u001b[1;36m0\u001b[0m\u001b[1;33m,\u001b[0m \u001b[1;36m256\u001b[0m\u001b[1;33m,\u001b[0m \u001b[1;36m0\u001b[0m\u001b[1;33m,\u001b[0m \u001b[1;36m256\u001b[0m\u001b[1;33m,\u001b[0m \u001b[1;36m0\u001b[0m\u001b[1;33m,\u001b[0m \u001b[1;36m256\u001b[0m\u001b[1;33m]\u001b[0m\u001b[1;33m)\u001b[0m\u001b[1;33m\u001b[0m\u001b[1;33m\u001b[0m\u001b[0m\n\u001b[0;32m      7\u001b[0m     \u001b[0mhist\u001b[0m \u001b[1;33m=\u001b[0m \u001b[0mcv2\u001b[0m\u001b[1;33m.\u001b[0m\u001b[0mnormalize\u001b[0m\u001b[1;33m(\u001b[0m\u001b[0mhist\u001b[0m\u001b[1;33m,\u001b[0m \u001b[0mhist\u001b[0m\u001b[1;33m)\u001b[0m\u001b[1;33m.\u001b[0m\u001b[0mflatten\u001b[0m\u001b[1;33m(\u001b[0m\u001b[1;33m)\u001b[0m\u001b[1;33m\u001b[0m\u001b[1;33m\u001b[0m\u001b[0m\n",
      "\u001b[1;31mAttributeError\u001b[0m: module 'cv2' has no attribute 'imread'"
     ]
    }
   ],
   "source": [
    "# 使用函数\n",
    "input_image_path = \"test1.jpg\"\n",
    "image_db_path = \"./data/\"\n",
    "\n",
    "# 首先进行颜色直方图预筛选\n",
    "preselected_images = preselect_by_color(input_image_path, image_db_path)\n",
    "\n",
    "start_time = time.time()  # 开始计时\n",
    "\n",
    "# 对预筛选出的图像进行SIFT方法\n",
    "match_results = [image_retrieval(image_path, image_db_path) for image_path, _ in preselected_images]\n",
    "\n",
    "end_time = time.time()  # 结束计时\n",
    "\n",
    "elapsed_time = end_time - start_time  # 计算耗时\n",
    "print(f\"Elapsed time: {elapsed_time} seconds\")  # 打印耗时\n",
    "\n",
    "# 打印结果并显示最相似的前10张图像\n",
    "fig = plt.figure(figsize=(20, 10))\n",
    "for i, (image_path, num_matches) in enumerate(match_results[:10]):\n",
    "    print(f\"Image path: {image_path}, Number of matches: {num_matches}\")\n",
    "    \n",
    "    # 读取图像并显示\n",
    "    img = mpimg.imread(image_path)\n",
    "    ax = fig.add_subplot(2, 5, i+1)\n",
    "    ax.imshow(img)\n",
    "    ax.set_title(f\"Matches: {num_matches}\")\n",
    "    ax.axis('off')\n",
    "\n",
    "plt.tight_layout()\n",
    "plt.show()"
   ]
  },
  {
   "cell_type": "code",
   "execution_count": null,
   "metadata": {},
   "outputs": [],
   "source": []
  }
 ],
 "metadata": {
  "kernelspec": {
   "display_name": "Python 3",
   "language": "python",
   "name": "python3"
  },
  "language_info": {
   "codemirror_mode": {
    "name": "ipython",
    "version": 3
   },
   "file_extension": ".py",
   "mimetype": "text/x-python",
   "name": "python",
   "nbconvert_exporter": "python",
   "pygments_lexer": "ipython3",
   "version": "3.7.6"
  }
 },
 "nbformat": 4,
 "nbformat_minor": 4
}
