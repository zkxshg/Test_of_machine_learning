{
 "cells": [
  {
   "cell_type": "code",
   "execution_count": 4,
   "metadata": {},
   "outputs": [
    {
     "name": "stdout",
     "output_type": "stream",
     "text": [
      "基于,结巴,的,中文,分词,和,词性,标注\n"
     ]
    }
   ],
   "source": [
    "# 安装并验证jieba\n",
    "# pip install jieba\n",
    "import jieba\n",
    "import jieba.posseg\n",
    "\n",
    "# 用样例验证是否安装成功\n",
    "seg_list = jieba.cut(\"基于结巴的中文分词和词性标注\", cut_all=True)\n",
    "print(\",\".join(seg_list)) "
   ]
  },
  {
   "cell_type": "code",
   "execution_count": 6,
   "metadata": {},
   "outputs": [
    {
     "name": "stdout",
     "output_type": "stream",
     "text": [
      "['两岸', '的', '豆麦', '和', '河底', '的', '水草', '所', '发散', '出来', '的', '清香', '，', '夹杂', '在', '水气', '中', '扑面', '的', '吹', '来', '；', '月色', '便', '朦胧', '在', '这', '水气', '里', '。', '淡黑', '的', '起伏', '的', '连山', '，', '仿佛', '是', '踊跃', '的', '铁', '的', '兽', '脊', '似的', '，', '都', '远远', '的', '向', '船尾', '跑', '去', '了', '，', '但', '我', '却', '还', '以为', '船慢', '。', '他们', '换', '了', '四', '回手', '，', '渐', '望见', '依稀', '的', '赵庄', '，', '而且', '似乎', '听到', '歌吹', '了', '，', '还有', '几点', '火', '，', '料想', '便是', '戏台', '，', '但', '或者', '也许', '是', '渔火']\n"
     ]
    }
   ],
   "source": [
    "# short cut\n",
    "string = '两岸的豆麦和河底的水草所发散出来的清香，夹杂在水气中扑面的吹来；月色便朦胧在这水气里。' \\\n",
    "         '淡黑的起伏的连山，仿佛是踊跃的铁的兽脊似的，都远远的向船尾跑去了，但我却还以为船慢。' \\\n",
    "         '他们换了四回手，渐望见依稀的赵庄，而且似乎听到歌吹了，还有几点火，料想便是戏台，但或者也许是渔火'\n",
    "\n",
    "# 中文分词\n",
    "seg = jieba.cut(string)\n",
    "# 输出分词结果\n",
    "l = []\n",
    "for i in seg:\n",
    "    l.append(i)\n",
    "print(l)"
   ]
  },
  {
   "cell_type": "code",
   "execution_count": 7,
   "metadata": {},
   "outputs": [
    {
     "name": "stdout",
     "output_type": "stream",
     "text": [
      "[('两岸', 'f'), ('的', 'uj'), ('豆麦', 'n'), ('和', 'c'), ('河底', 'ns'), ('的', 'uj'), ('水草', 'n'), ('所', 'c'), ('发散', 'v'), ('出来', 'v'), ('的', 'uj'), ('清香', 'nr'), ('，', 'x'), ('夹杂', 'v'), ('在', 'p'), ('水气', 'n'), ('中', 'f'), ('扑面', 'n'), ('的', 'uj'), ('吹来', 'v'), ('；', 'x'), ('月色', 'n'), ('便', 'd'), ('朦胧', 'a'), ('在', 'p'), ('这', 'r'), ('水气', 'n'), ('里', 'f'), ('。', 'x'), ('淡黑', 'z'), ('的', 'uj'), ('起伏', 'v'), ('的', 'uj'), ('连山', 'ns'), ('，', 'x'), ('仿佛', 'd'), ('是', 'v'), ('踊跃', 'ad'), ('的', 'uj'), ('铁', 'n'), ('的', 'uj'), ('兽脊', 'n'), ('似的', 'u'), ('，', 'x'), ('都', 'd'), ('远远', 'd'), ('的', 'uj'), ('向', 'p'), ('船尾', 'n'), ('跑', 'v'), ('去', 'v'), ('了', 'ul'), ('，', 'x'), ('但', 'c'), ('我', 'r'), ('却', 'd'), ('还', 'd'), ('以为', 'c'), ('船', 'n'), ('慢', 'd'), ('。', 'x'), ('他们', 'r'), ('换', 'v'), ('了', 'ul'), ('四', 'm'), ('回手', 'v'), ('，', 'x'), ('渐', 'd'), ('望见', 'v'), ('依稀', 'd'), ('的', 'uj'), ('赵庄', 'nr'), ('，', 'x'), ('而且', 'c'), ('似乎', 'd'), ('听到', 'v'), ('歌', 'n'), ('吹', 'v'), ('了', 'ul'), ('，', 'x'), ('还有', 'v'), ('几点', 'm'), ('火', 'n'), ('，', 'x'), ('料想', 'v'), ('便是', 'v'), ('戏台', 'n'), ('，', 'x'), ('但', 'c'), ('或者', 'c'), ('也许', 'd'), ('是', 'v'), ('渔火', 'n')]\n"
     ]
    }
   ],
   "source": [
    "# 中文词性标注\n",
    "seg2 = jieba.posseg.cut(string)\n",
    "# 输出词性标注结果\n",
    "l2 = []\n",
    "for i in seg2:\n",
    "    l2.append((i.word, i.flag))\n",
    "print(l2)"
   ]
  },
  {
   "cell_type": "code",
   "execution_count": 9,
   "metadata": {},
   "outputs": [
    {
     "name": "stdout",
     "output_type": "stream",
     "text": [
      "Displaying 25 of 371 matches:\n",
      " “ 我们 的 师父 ， 是 … … 是 西藏 圣 … … 圣僧 … … 金轮法王 门下 二 … … 二 弟子 … … ” 洪七公 又 摇摇头 ， 说道 ：\n",
      " 弟子 … … ” 洪七公 又 摇摇头 ， 说道 ： “ 西藏 圣僧 、 金轮法王 ？ 没 听见 过 。 西藏 有个 和尚 ， 叫 甚么 灵智上人 ， 倒 \n",
      " 辈 。 ” 只 听 洪七公 道 ： “ 他们 说 是 甚么 西藏 圣僧 金轮法王 的 徒孙 。 ” 欧阳锋 道 ： “ 这个 金轮法王 跟 你 相比 ， \n",
      " 甚么 西藏 圣僧 金轮法王 的 徒孙 。 ” 欧阳锋 道 ： “ 这个 金轮法王 跟 你 相比 ， 谁 厉害 些 ？ ” 洪七公 道 ： “ 不 知道 ，\n",
      "后 再也不能 害人 ， 快给我 滚 罢 。 记得 回去 跟 你们 祖师爷 金轮法王 说 ， 叫 他 快 到 中 原来 ， 跟 我 较量 较量 。 ” 欧阳锋\n",
      "说道 ： “ 这位 是 在 下 的 师尊 ， 西藏 圣僧 ， 人人 尊称 金轮法王 ， 当今 大 蒙古国 皇后 封 为 第一 护国 大师 。 ” 这 几句话\n",
      " 藏边五丑 所学 功夫 “ 了不起 ” ， 要 他们 带讯 去 叫 师祖 金轮法王 来 比划 比划 ； 此刻 金轮法王 与 藏边五丑 的 师父 达尔巴 同时\n",
      "” ， 要 他们 带讯 去 叫 师祖 金轮法王 来 比划 比划 ； 此刻 金轮法王 与 藏边五丑 的 师父 达尔巴 同时 到来 ， 义父 与 洪七公 却 已\n",
      " 坐在 此处 ， 凭 他 的 武功 德望 ， 又 怎及 得 上 我 师父 金轮法王 ？ 各位 英雄 靖 听 了 ， 当今 天下武林 的 盟主 ， 除了 金轮\n",
      "法王 ？ 各位 英雄 靖 听 了 ， 当今 天下武林 的 盟主 ， 除了 金轮法王 ， 再 无 第二 人当 得 。 ” \n",
      " \n",
      " 　 　 群雄 听 了 这 一\n",
      "知 英雄 大宴 将 不利于 蒙古 ， 是 以来 争 盟主 之位 。 倘若 金轮法王 凭 武功 夺得 盟主 ， 中原 豪杰 虽然 决不会 听 他 号令 ， 却\n",
      "横来 打岔 ， 要 推举 一个 大家 从未 闻名 、 素不相识 的 甚么 金轮法王 。 若 是 洪老帮 主在 此 ， 原可 与 金轮法王 各显神通 ， 一决\n",
      "素不相识 的 甚么 金轮法王 。 若 是 洪老帮 主在 此 ， 原可 与 金轮法王 各显神通 ， 一决雌雄 ， 只是 他 老人家 周游 天下 ， 到处 诛杀\n",
      "， 他 老人家 日后 知道 了 ， 定感 遗憾 。 好 在 洪老帮 主与 金轮法王 都 传下 了 弟子 ， 就 由 两家 弟子 代 师父 们 较量 一下 如\n",
      "第一 ， 此时 纵然 是 洪七公 也 未必 能强 过 他 去 ， 若 与 金轮法王 的 弟子 相 较 ， 那 是 胜券在握 ， 决无 败理 ， 当下 纷纷 \n",
      " 廊 下 、 天井 、 门边 都 挤满 了 人 ， 众人 叫好 助威 。 金轮法王 一边 人少 ， 声势 自 是 大大 不如 。 \n",
      " \n",
      " 　 　 霍都 当年\n",
      "个 变故 实非 始料 之所及 ， 不禁 □ 徨 无计 。 \n",
      " \n",
      " 　 　 金轮法王 道 ： “ 好 ， 霍都 ， 你 就 下场 去 ， 和 洪七公 的 弟子\n",
      "怕 难以 取胜 ， 莫要 堕 了 师父 的 威风 。 ” \n",
      " \n",
      " 　 　 金轮法王 脸一沉 ， 哼 了 一声 ， 道 ： “ 难道 连 人家 的 徒儿 也 \n",
      " 领教 领教 他 老人家 的 降龙十八掌 好 了 。 ” \n",
      " \n",
      " 　 　 金轮法王 双目 半张 半闭 ， 见 郭靖 出座 这么 一站 ， 当真 是 有若渊 \n",
      " “ 一人 投拜 数位 师父 ， 本来 也 是 常事 。 然而 今日 乃 金轮法王 与 洪老帮 主 较量 功夫 ， 阁下 武功 虽强 ， 却是 艺兼众 门 \n",
      "害 内功 。 ” 霎时间 都 静 了 下来 。 \n",
      " \n",
      " 　 　 霍都 向 金轮法王 朗 声道 ： “ 师父 ， 咱们 让 人 冤 啦 。 初时 只道 今日 \n",
      "一阵 斗 霍都 ， 郝大通 第二阵 斗 达尔巴 ， 郭靖 压阵 ， 挑斗 金轮法王 。 这 阵势 是否 能胜 ， 殊 无把握 ， 要是 金轮法王 武功 当真\n",
      " ， 挑斗 金轮法王 。 这 阵势 是否 能胜 ， 殊 无把握 ， 要是 金轮法王 武功 当真 极高 ， 连郭靖 也 抵 敌不住 ， 说不定 三阵 连输 ，\n",
      " 郭靖听 妻子 如此 说 ， 当即 接口 道 ： “ 请 郝道长 当 那 金轮法王 ， 可 就 危险 得紧 。 胜负 固然 无关大局 ， 只怕 敌人 出手 \n",
      "前 疾点 。 \n",
      " \n",
      " 　 　 霍都 虽是 在 西藏 学 的 武艺 ， 但 金轮法王 胸中 渊博 ， 浩若 湖海 ， 于 中原 名家 的 武功 无一不知 。 \n",
      "None\n"
     ]
    }
   ],
   "source": [
    "# pip install nltk\n",
    "# pip install matplotlib\n",
    "import nltk\n",
    "import jieba\n",
    "\n",
    "\n",
    "# 读入目标文本，注意文本是ANSI编码\n",
    "raw=open(u'神雕侠侣.txt',encoding='gb18030', errors='ignore').read()\n",
    "\n",
    "# 使用 jieba 的分词词库结合 nltk 进行分词\n",
    "text=nltk.text.Text(jieba.lcut(raw))\n",
    "\n",
    "# 找出“金轮法王”在全文出现了多少次\n",
    "print(text.concordance(u'金轮法王'))"
   ]
  },
  {
   "cell_type": "code",
   "execution_count": 10,
   "metadata": {},
   "outputs": [
    {
     "name": "stderr",
     "output_type": "stream",
     "text": [
      "D:\\ProgramData\\Anaconda3\\lib\\site-packages\\matplotlib\\backends\\backend_agg.py:211: RuntimeWarning: Glyph 37101 missing from current font.\n",
      "  font.set_text(s, 0.0, flags=flags)\n",
      "D:\\ProgramData\\Anaconda3\\lib\\site-packages\\matplotlib\\backends\\backend_agg.py:211: RuntimeWarning: Glyph 35140 missing from current font.\n",
      "  font.set_text(s, 0.0, flags=flags)\n",
      "D:\\ProgramData\\Anaconda3\\lib\\site-packages\\matplotlib\\backends\\backend_agg.py:211: RuntimeWarning: Glyph 26446 missing from current font.\n",
      "  font.set_text(s, 0.0, flags=flags)\n",
      "D:\\ProgramData\\Anaconda3\\lib\\site-packages\\matplotlib\\backends\\backend_agg.py:211: RuntimeWarning: Glyph 33707 missing from current font.\n",
      "  font.set_text(s, 0.0, flags=flags)\n",
      "D:\\ProgramData\\Anaconda3\\lib\\site-packages\\matplotlib\\backends\\backend_agg.py:211: RuntimeWarning: Glyph 24833 missing from current font.\n",
      "  font.set_text(s, 0.0, flags=flags)\n",
      "D:\\ProgramData\\Anaconda3\\lib\\site-packages\\matplotlib\\backends\\backend_agg.py:180: RuntimeWarning: Glyph 37101 missing from current font.\n",
      "  font.set_text(s, 0, flags=flags)\n",
      "D:\\ProgramData\\Anaconda3\\lib\\site-packages\\matplotlib\\backends\\backend_agg.py:180: RuntimeWarning: Glyph 35140 missing from current font.\n",
      "  font.set_text(s, 0, flags=flags)\n",
      "D:\\ProgramData\\Anaconda3\\lib\\site-packages\\matplotlib\\backends\\backend_agg.py:180: RuntimeWarning: Glyph 26446 missing from current font.\n",
      "  font.set_text(s, 0, flags=flags)\n",
      "D:\\ProgramData\\Anaconda3\\lib\\site-packages\\matplotlib\\backends\\backend_agg.py:180: RuntimeWarning: Glyph 33707 missing from current font.\n",
      "  font.set_text(s, 0, flags=flags)\n",
      "D:\\ProgramData\\Anaconda3\\lib\\site-packages\\matplotlib\\backends\\backend_agg.py:180: RuntimeWarning: Glyph 24833 missing from current font.\n",
      "  font.set_text(s, 0, flags=flags)\n"
     ]
    },
    {
     "data": {
      "image/png": "[encoded data removed]",
      "text/plain": [
       "<Figure size 432x288 with 1 Axes>"
      ]
     },
     "metadata": {
      "needs_background": "light"
     },
     "output_type": "display_data"
    }
   ],
   "source": [
    "import matplotlib.pyplot as plt\n",
    "\n",
    "# 查看 李莫愁 和 郭襄 两个词在全文的分布\n",
    "text.dispersion_plot([u'李莫愁', u'郭襄'])\n",
    "plt.show()"
   ]
  },
  {
   "cell_type": "code",
   "execution_count": null,
   "metadata": {},
   "outputs": [],
   "source": []
  }
 ],
 "metadata": {
  "kernelspec": {
   "display_name": "Python 3",
   "language": "python",
   "name": "python3"
  },
  "language_info": {
   "codemirror_mode": {
    "name": "ipython",
    "version": 3
   },
   "file_extension": ".py",
   "mimetype": "text/x-python",
   "name": "python",
   "nbconvert_exporter": "python",
   "pygments_lexer": "ipython3",
   "version": "3.7.6"
  }
 },
 "nbformat": 4,
 "nbformat_minor": 4
}
