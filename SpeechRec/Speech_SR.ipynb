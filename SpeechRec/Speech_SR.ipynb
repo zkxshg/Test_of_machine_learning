{
 "cells": [
  {
   "cell_type": "code",
   "execution_count": 1,
   "metadata": {},
   "outputs": [],
   "source": [
    "# pip install SpeechRecognition\n",
    "# conda install pyaudio\n",
    "import speech_recognition as sr"
   ]
  },
  {
   "cell_type": "code",
   "execution_count": 2,
   "metadata": {},
   "outputs": [
    {
     "name": "stdout",
     "output_type": "stream",
     "text": [
      "<class 'speech_recognition.AudioData'>\n"
     ]
    },
    {
     "data": {
      "text/plain": [
       "{'alternative': [{'transcript': '這堂課我們來介紹語音差別', 'confidence': 0.87501127},\n",
       "  {'transcript': '課堂後我們來介紹語音差別'},\n",
       "  {'transcript': '這堂課我們來介紹與因差別'},\n",
       "  {'transcript': '課堂後我們來介紹與因差別'},\n",
       "  {'transcript': '課堂課我們來介紹語音差別'}],\n",
       " 'final': True}"
      ]
     },
     "execution_count": 2,
     "metadata": {},
     "output_type": "execute_result"
    }
   ],
   "source": [
    "r = sr.Recognizer()\n",
    "\n",
    "test = sr.AudioFile('录音.wav')\n",
    "\n",
    "with test as source:\n",
    "    audio = r.record(source)\n",
    "\n",
    "print(type(audio))\n",
    "\n",
    "text = r.recognize_google(audio, language='zh-CN', show_all= True)\n",
    "text\n",
    "# print(text)"
   ]
  },
  {
   "cell_type": "code",
   "execution_count": 10,
   "metadata": {},
   "outputs": [
    {
     "name": "stdout",
     "output_type": "stream",
     "text": [
      "请开始发言: \n",
      "你说的是: 語音識別的任務是用電腦校園內的語言轉換為相應的文字\n"
     ]
    }
   ],
   "source": [
    "sample_rate = 48000\n",
    "data_size = 8192\n",
    "\n",
    "recog = sr.Recognizer()\n",
    "with sr.Microphone(sample_rate = sample_rate, chunk_size = data_size) as source:\n",
    "    recog.adjust_for_ambient_noise(source)\n",
    "    print('请开始发言: ')\n",
    "    speech = recog.listen(source)\n",
    "\n",
    "try:\n",
    "   text = recog.recognize_google(speech, language='zh-CN')\n",
    "   print('你说的是: ' + text)\n",
    "except sr.UnknownValueError:\n",
    "   print('听不到你的声音！')\n",
    "except sr.RequestError as e:\n",
    "   print(\"程序发生错误; {}\".format(e))"
   ]
  },
  {
   "cell_type": "code",
   "execution_count": null,
   "metadata": {},
   "outputs": [],
   "source": []
  }
 ],
 "metadata": {
  "kernelspec": {
   "display_name": "Python 3",
   "language": "python",
   "name": "python3"
  },
  "language_info": {
   "codemirror_mode": {
    "name": "ipython",
    "version": 3
   },
   "file_extension": ".py",
   "mimetype": "text/x-python",
   "name": "python",
   "nbconvert_exporter": "python",
   "pygments_lexer": "ipython3",
   "version": "3.7.6"
  }
 },
 "nbformat": 4,
 "nbformat_minor": 4
}
