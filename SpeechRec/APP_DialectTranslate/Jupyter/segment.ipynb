{
 "cells": [
  {
   "cell_type": "code",
   "execution_count": 1,
   "metadata": {},
   "outputs": [
    {
     "name": "stderr",
     "output_type": "stream",
     "text": [
      "D:\\ProgramData\\Anaconda3\\lib\\site-packages\\pydub\\utils.py:170: RuntimeWarning: Couldn't find ffmpeg or avconv - defaulting to ffmpeg, but may not work\n",
      "  warn(\"Couldn't find ffmpeg or avconv - defaulting to ffmpeg, but may not work\", RuntimeWarning)\n"
     ]
    }
   ],
   "source": [
    "from pydub import AudioSegment\n",
    "import datetime\n",
    "import sys"
   ]
  },
  {
   "cell_type": "code",
   "execution_count": 2,
   "metadata": {},
   "outputs": [],
   "source": [
    "def musicSegment(path, st, en):\n",
    "    # 读入文件\n",
    "    song = AudioSegment.from_wav(path)\n",
    "    \n",
    "    st = int(st)\n",
    "    en = int(en)\n",
    "    \n",
    "    if (int(en) >= len(song) or int(st) >= len(song)):\n",
    "        print(\"给定时间超出音乐长度，截取失败！\")\n",
    "        return\n",
    "    \n",
    "    # 用当前时间作为保存文件名\n",
    "    tmpTime = datetime.datetime.now() \n",
    "    save_time = tmpTime.strftime(\"%Y%m%d%H%M%S\")\n",
    "    save_path = save_time + \".wav\"\n",
    "    \n",
    "    # 保存文件\n",
    "    song[st : en].export(save_path, format=\"wav\")\n",
    "    print(\"文件已保存在\", save_path)"
   ]
  },
  {
   "cell_type": "code",
   "execution_count": 6,
   "metadata": {},
   "outputs": [
    {
     "name": "stdout",
     "output_type": "stream",
     "text": [
      "给定起始时间为: C:\\Users\\zkxsh\\AppData\\Roaming\\jupyter\\runtime\\kernel-a2cb5d88-3fe8-42b4-9243-0f023db1a15f.json ms\n",
      "请输入片段的结束时间！\n"
     ]
    }
   ],
   "source": [
    "# path = \"./input/00415250.wav\"\n",
    "inPara = sys.argv\n",
    "\n",
    "if (len(inPara) < 2):\n",
    "    print(\"请输入待识别录音文件路径！\")\n",
    "else:\n",
    "    if (len(inPara) > 2):\n",
    "        print(\"给定起始时间为:\", sys.argv[2], \"ms\")\n",
    "        st = sys.argv[2]\n",
    "    else:\n",
    "        print(\"请输入片段的起始时间！\")\n",
    "    \n",
    "    if (len(inPara) > 3):\n",
    "        print(\"给定结束时间为:\", sys.argv[3])\n",
    "        en = sys.argv[3]\n",
    "    else:\n",
    "        print(\"请输入片段的结束时间！\")\n",
    "    \n",
    "    testPath = sys.argv[1]\n",
    "    \n",
    "    if (len(inPara) > 3):\n",
    "        musicSegment(testPath, st, en)"
   ]
  },
  {
   "cell_type": "code",
   "execution_count": 4,
   "metadata": {},
   "outputs": [
    {
     "name": "stdout",
     "output_type": "stream",
     "text": [
      "文件已保存在 20230217002722.wav\n"
     ]
    }
   ],
   "source": [
    "testPath = \"./corpus/00429126.wav\"\n",
    "st = 5000\n",
    "en = 10000\n",
    "musicSegment(testPath, st, en)"
   ]
  },
  {
   "cell_type": "code",
   "execution_count": null,
   "metadata": {},
   "outputs": [],
   "source": []
  },
  {
   "cell_type": "code",
   "execution_count": null,
   "metadata": {},
   "outputs": [],
   "source": []
  }
 ],
 "metadata": {
  "kernelspec": {
   "display_name": "Python 3",
   "language": "python",
   "name": "python3"
  },
  "language_info": {
   "codemirror_mode": {
    "name": "ipython",
    "version": 3
   },
   "file_extension": ".py",
   "mimetype": "text/x-python",
   "name": "python",
   "nbconvert_exporter": "python",
   "pygments_lexer": "ipython3",
   "version": "3.7.6"
  }
 },
 "nbformat": 4,
 "nbformat_minor": 4
}
