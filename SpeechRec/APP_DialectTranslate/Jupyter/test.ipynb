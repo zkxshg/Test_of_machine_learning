{
 "cells": [
  {
   "cell_type": "code",
   "execution_count": 6,
   "metadata": {},
   "outputs": [
    {
     "name": "stdout",
     "output_type": "stream",
     "text": [
      "Importing the dtw module. When using in academic works please cite:\n",
      "  T. Giorgino. Computing and Visualizing Dynamic Time Warping Alignments in R: The dtw Package.\n",
      "  J. Stat. Soft., doi:10.18637/jss.v031.i07.\n",
      "\n"
     ]
    }
   ],
   "source": [
    "import utils.corpus as VCP\n",
    "import utils.record as REC"
   ]
  },
  {
   "cell_type": "code",
   "execution_count": 7,
   "metadata": {},
   "outputs": [],
   "source": [
    "def recComp():\n",
    "    # 初始化录音器\n",
    "    \n",
    "    rec = REC.REC()\n",
    "    path = rec.record_voice()\n",
    "    \n",
    "    return path"
   ]
  },
  {
   "cell_type": "code",
   "execution_count": 8,
   "metadata": {},
   "outputs": [],
   "source": [
    "def Test(cPath, dbPath):\n",
    "    corpus_path = cPath\n",
    "    \n",
    "    ifListen = input(\"指定录音文件路径请输入 1, 其他将开始录音：\")\n",
    "    \n",
    "    if (ifListen == '1'):\n",
    "        testPath = input(\"请输入待识别图像文件夹路径：\")\n",
    "    else:\n",
    "        testPath = recComp()\n",
    "        \n",
    "    # 比较最相似语音\n",
    "    vComp = VCP.voiceComparator(corpus_path, dbPath)\n",
    "    vComp.voiceCompare(testPath)"
   ]
  },
  {
   "cell_type": "code",
   "execution_count": 9,
   "metadata": {},
   "outputs": [],
   "source": [
    "corpus_path = './corpus' # 语料库路径\n",
    "dbPath = './beatDatabase.npy' # 数据表路径"
   ]
  },
  {
   "cell_type": "code",
   "execution_count": 11,
   "metadata": {},
   "outputs": [
    {
     "name": "stdout",
     "output_type": "stream",
     "text": [
      "指定录音文件路径请输入 1, 其他将开始录音：1\n",
      "请输入待识别图像文件夹路径：./input/20230204031618.wav\n",
      "最接近的录音是： ./corpus\\9秒到最后.wav\n"
     ]
    }
   ],
   "source": [
    "Test(corpus_path, dbPath)"
   ]
  },
  {
   "cell_type": "code",
   "execution_count": null,
   "metadata": {},
   "outputs": [],
   "source": []
  }
 ],
 "metadata": {
  "kernelspec": {
   "display_name": "Python 3",
   "language": "python",
   "name": "python3"
  },
  "language_info": {
   "codemirror_mode": {
    "name": "ipython",
    "version": 3
   },
   "file_extension": ".py",
   "mimetype": "text/x-python",
   "name": "python",
   "nbconvert_exporter": "python",
   "pygments_lexer": "ipython3",
   "version": "3.7.6"
  }
 },
 "nbformat": 4,
 "nbformat_minor": 4
}
