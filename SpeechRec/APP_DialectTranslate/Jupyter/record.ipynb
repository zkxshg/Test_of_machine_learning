{
 "cells": [
  {
   "cell_type": "code",
   "execution_count": 3,
   "metadata": {},
   "outputs": [],
   "source": [
    "import speech_recognition as sr\n",
    "import datetime"
   ]
  },
  {
   "cell_type": "code",
   "execution_count": 6,
   "metadata": {},
   "outputs": [],
   "source": [
    "def record_voice():\n",
    "    # 设置采样率\n",
    "    sample_rate = 48000\n",
    "    data_size = 8192\n",
    "    \n",
    "    # 初始化\n",
    "    recog = sr.Recognizer()\n",
    "    \n",
    "    with sr.Microphone(sample_rate = sample_rate, chunk_size = data_size) as source:\n",
    "        recog.adjust_for_ambient_noise(source)\n",
    "        print('请开始发言: ')\n",
    "        speech = recog.listen(source)\n",
    "        \n",
    "    savepath = \"NULL\"\n",
    "    \n",
    "    try:\n",
    "        text = recog.recognize_google(speech, language='zh-CN')  # google API\n",
    "        # text = recog.recognize_sphinx(speech, language='zh-CN')  # CMU sphinx \n",
    "        # text = recog.recognize_whisper(speech, language='zh-CN')  # openAI whisper API\n",
    "        print('你说的是: ' + text)\n",
    "        \n",
    "        # 用当前时间作为保存文件名\n",
    "        tmpTime = datetime.datetime.now() \n",
    "        save_time = tmpTime.strftime(\"%Y%m%d%H%M%S\")\n",
    "        save_path = \"./input/\" + save_time + \".wav\"\n",
    "        \n",
    "        # write audio to a WAV file\n",
    "        with open(save_path, \"wb\") as f:\n",
    "            f.write(speech.get_wav_data()) \n",
    "            print(\"录影文件已保存在:\", save_path)\n",
    "            \n",
    "            savepath = save_path\n",
    "            \n",
    "    except sr.UnknownValueError:\n",
    "        print('听不到你的声音！')\n",
    "    except sr.RequestError as e:\n",
    "        print(\"程序发生错误; {}\".format(e))\n",
    "    \n",
    "    return savepath"
   ]
  },
  {
   "cell_type": "code",
   "execution_count": 7,
   "metadata": {},
   "outputs": [
    {
     "name": "stdout",
     "output_type": "stream",
     "text": [
      "请开始发言: \n",
      "你说的是: 测试测试测试\n",
      "录影文件已保存在: ./input/20230227200055.wav\n"
     ]
    }
   ],
   "source": [
    "path = record_voice()"
   ]
  },
  {
   "cell_type": "code",
   "execution_count": 2,
   "metadata": {},
   "outputs": [
    {
     "name": "stdout",
     "output_type": "stream",
     "text": [
      "请开始发言: \n",
      "程序发生错误; recognition connection failed: [WinError 10060] 由于连接方在一段时间后没有正确答复或连接的主机没有反应，连接尝试失败。\n"
     ]
    }
   ],
   "source": [
    "import utils.record as rec\n",
    "rec = rec.REC()\n",
    "path = rec.record_voice()"
   ]
  },
  {
   "cell_type": "code",
   "execution_count": null,
   "metadata": {},
   "outputs": [],
   "source": []
  }
 ],
 "metadata": {
  "kernelspec": {
   "display_name": "Python 3",
   "language": "python",
   "name": "python3"
  },
  "language_info": {
   "codemirror_mode": {
    "name": "ipython",
    "version": 3
   },
   "file_extension": ".py",
   "mimetype": "text/x-python",
   "name": "python",
   "nbconvert_exporter": "python",
   "pygments_lexer": "ipython3",
   "version": "3.7.6"
  }
 },
 "nbformat": 4,
 "nbformat_minor": 4
}
