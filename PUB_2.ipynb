{
 "cells": [
  {
   "cell_type": "code",
   "execution_count": 1,
   "metadata": {},
   "outputs": [
    {
     "name": "stdout",
     "output_type": "stream",
     "text": [
      "个放进去，过一会就可以捞上来吃的，软软的绵绵的，这么好吃的东西好多人竟然觉得恶心。还有油条，也很不错，泡一小会就行，不然会煮的很烂的。唯一遗憾的是没有骨髓，也很不错的。还有最重要的服务，是真的到位。A餐厅是我们的定点单位，单位大聚小聚都来这，所以享受VIP待遇，来了不用等位。这的菜品新鲜，服务一流，所以高峰客流很多，我们来了有个暗号，服务员就直接给我们安排座位了。我们从唐山回来，出站径直来这吃饭，约好了今天只吃素，今天不吃辣，特意点了番茄加菌汤锅底，点了一堆吃的，鹌鹑蛋，炸馒头，小酥肉，油条，豆苗，豆花，扎啤等，吃饱喝足，回家这两天风特别大，家里也没什么可吃的，外卖也不知道吃什么！又懒得出去，发现好久没吃火锅啦！灵机一动，可以叫A餐厅火锅外卖啊！以前就听说A餐厅外卖好，什么都有！这次第一次叫！配送很快，还赶上网站做活动优惠，没有买给搭配好的套餐，因为里面含炉子和燃料，还有的个别菜品不是太喜欢吃！自己家有电磁炉，比较省事！于是单点了一些，有秘制牛肉，笋，生菜，茼蒿，娃娃菜，鸭血，菠菜，豆腐等，食材都很新鲜，跟在店里面吃的一样，味道一样好，还有小料配置的也特别好吃！以后可以常吃A餐厅外卖，省的去店里面拿号排队啦！送餐也快，真的很不错的一次体验A餐厅真的是天津每一个店我都来过无数次了！今天觉得我拍的图很好看hhhh于是就来发条点评以前一直喜欢去吉利大厦店因为好像那个店料比较全以为新开路的料不全后来才发现这家店有小的小料台和大的小料台大家如果发现料不全可以去别的小料台找找一直在学校里跟同桌得啵得啵说A餐厅如同吸毒一个月不吃就想吃到不行终于抽出时间来吃了推荐大家吃新出的鱼饼比鱼豆腐好吃一百倍啊！！多煮一会更好吃！今天又来到新开路的A餐厅，食材还是非常新鲜，羔羊肉味道鲜美，墨鱼滑味道新鲜！我们一家三口吃的非常高兴，花了四百多元钱，吃的饱饱的！今天的水果有西瓜，伊丽莎白瓜，圣女果，荷兰乳瓜！值得一题的是服务员赵丽娜的服务真是太好了！态度和蔼亲切，百问不厌！值得称赞！服务态度一如既往的好，看我东西多，主动帮忙提东西，所有的服务员都主动打招呼，非常热情。我点的牛肉太肥了，也能二话不说给我更换，过后还主动问我新换的行不行，真是挑不出毛病。我去做手护，做手护的小姑娘还主动邀请我妈妈一起做，一点不闲麻烦，非常热情。中午还有川剧变脸表演，挺热闹的。服务好赞！外送小哥实际A餐厅自己配的，送之前\n"
     ]
    }
   ],
   "source": [
    "import pandas as pd\n",
    "\n",
    "# 读入评论数据\n",
    "df = pd.read_excel(\"restaurant-comments.xlsx\")\n",
    "text = \"\"\n",
    "for sentence in df.comments:\n",
    "    text += sentence\n",
    "text = text.replace(\"<br>\", \"\")\n",
    "print(text[1000:2000])"
   ]
  },
  {
   "cell_type": "code",
   "execution_count": 4,
   "metadata": {},
   "outputs": [],
   "source": [
    "from jieba.analyse import *"
   ]
  },
  {
   "cell_type": "code",
   "execution_count": 5,
   "metadata": {},
   "outputs": [
    {
     "name": "stderr",
     "output_type": "stream",
     "text": [
      "Building prefix dict from the default dictionary ...\n",
      "Loading model from cache C:\\Users\\zkxsh\\AppData\\Local\\Temp\\jieba.cache\n",
      "Loading model cost 0.604 seconds.\n",
      "Prefix dict has been built successfully.\n"
     ]
    },
    {
     "name": "stdout",
     "output_type": "stream",
     "text": [
      "餐厅 0.21139839605057473\n",
      "服务员 0.12161972430948276\n",
      "服务 0.10745705223991378\n",
      "番茄 0.08249951992836208\n",
      "好吃 0.0814510272071839\n",
      "小料 0.07729375540668103\n",
      "锅底 0.07673940517920258\n",
      "不错 0.0711291243413793\n",
      "牛肉 0.060370038984770114\n",
      "真的 0.05261397267012212\n",
      "秘制 0.05152917027112069\n",
      "毛肚 0.0474408422104885\n",
      "排队 0.04637238606143679\n",
      "特别 0.04433966175381465\n",
      "我们 0.043853249573146555\n",
      "还有 0.04340139339353448\n",
      "火锅 0.0413068514587931\n",
      "喜欢 0.04096687071135058\n",
      "一如既往 0.038495104967241386\n",
      "可以 0.037770681596551725\n"
     ]
    }
   ],
   "source": [
    "for keyword, weight in extract_tags(text, withWeight=True):\n",
    "    print('%s %s' % (keyword, weight))"
   ]
  },
  {
   "cell_type": "code",
   "execution_count": 6,
   "metadata": {},
   "outputs": [
    {
     "name": "stdout",
     "output_type": "stream",
     "text": [
      "餐厅 0.21139839605057473\n",
      "服务员 0.12161972430948276\n",
      "服务 0.10745705223991378\n",
      "番茄 0.08249951992836208\n",
      "好吃 0.0814510272071839\n",
      "小料 0.07729375540668103\n",
      "锅底 0.07673940517920258\n",
      "不错 0.0711291243413793\n",
      "牛肉 0.060370038984770114\n",
      "真的 0.05261397267012212\n"
     ]
    }
   ],
   "source": [
    "for keyword, weight in extract_tags(text, topK=10, withWeight=True):\n",
    "    print('%s %s' % (keyword, weight))"
   ]
  },
  {
   "cell_type": "code",
   "execution_count": 7,
   "metadata": {},
   "outputs": [
    {
     "name": "stdout",
     "output_type": "stream",
     "text": [
      "餐厅 1.0\n",
      "服务 0.7310201791348452\n",
      "服务员 0.7033720183152581\n",
      "还有 0.5665673126888665\n",
      "好吃 0.45433244542726603\n",
      "排队 0.3156681498698222\n",
      "牛肉 0.3026067724773098\n",
      "没有 0.2904154533717452\n",
      "喜欢 0.28929511062266866\n",
      "番茄 0.2823822302627482\n",
      "时候 0.2673742322195005\n",
      "孩子 0.24918548452279937\n",
      "提前 0.24849389704533328\n",
      "需要 0.23858444757567288\n",
      "羊肉 0.23754335155407624\n",
      "秘制 0.23667071970939\n",
      "环境 0.22460410667950678\n",
      "贴心 0.2005179383693275\n",
      "土豆 0.19891179086227564\n",
      "礼物 0.19635836882321756\n"
     ]
    }
   ],
   "source": [
    "for keyword, weight in textrank(text, withWeight=True):\n",
    "    print('%s %s' % (keyword, weight))"
   ]
  },
  {
   "cell_type": "code",
   "execution_count": null,
   "metadata": {},
   "outputs": [],
   "source": []
  }
 ],
 "metadata": {
  "kernelspec": {
   "display_name": "Python 3",
   "language": "python",
   "name": "python3"
  },
  "language_info": {
   "codemirror_mode": {
    "name": "ipython",
    "version": 3
   },
   "file_extension": ".py",
   "mimetype": "text/x-python",
   "name": "python",
   "nbconvert_exporter": "python",
   "pygments_lexer": "ipython3",
   "version": "3.7.6"
  }
 },
 "nbformat": 4,
 "nbformat_minor": 4
}
