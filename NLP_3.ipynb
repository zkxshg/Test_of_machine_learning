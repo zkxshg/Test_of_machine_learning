{
 "cells": [
  {
   "cell_type": "code",
   "execution_count": 3,
   "metadata": {},
   "outputs": [
    {
     "name": "stdout",
     "output_type": "stream",
     "text": [
      "Hello!\n"
     ]
    }
   ],
   "source": [
    "# pip install translate\n",
    "from translate import Translator\n",
    "print(Translator(to_lang=\"english\").translate(\"你好\"))"
   ]
  },
  {
   "cell_type": "code",
   "execution_count": 4,
   "metadata": {},
   "outputs": [
    {
     "name": "stdout",
     "output_type": "stream",
     "text": [
      "翻译是一个简单而强大的翻译工具，用巨蛇编写，支持多个翻译提供商。\n"
     ]
    }
   ],
   "source": [
    "# 英文翻译为中文\n",
    "# translator= Translator(from_lang=\"english\",to_lang=\"chinese\")\n",
    "translator= Translator(from_lang=\"english\",to_lang=\"zh\")\n",
    "translation = translator.translate(\"Translate is a simple but powerful translation tool \\\n",
    "written in python with support for multiple translation providers.\")\n",
    "print(translation)"
   ]
  },
  {
   "cell_type": "code",
   "execution_count": 5,
   "metadata": {},
   "outputs": [
    {
     "name": "stdout",
     "output_type": "stream",
     "text": [
      "Machine translation translates Chinese into English\n"
     ]
    }
   ],
   "source": [
    "# 中文翻译为英文\n",
    "translator= Translator(from_lang=\"zh\",to_lang=\"english\")\n",
    "translation = translator.translate(\"机器翻译将中文翻译为英文\")\n",
    "print(translation)"
   ]
  },
  {
   "cell_type": "code",
   "execution_count": 8,
   "metadata": {},
   "outputs": [
    {
     "data": {
      "text/plain": [
       "'你好，世界'"
      ]
     },
     "execution_count": 8,
     "metadata": {},
     "output_type": "execute_result"
    }
   ],
   "source": [
    "# pip install googletrans\n",
    "from googletrans import Translator\n",
    "googletranslator = Translator(service_urls=['translate.google.cn'])\n",
    "googletranslator.translate('Hello World', dest='zh-CN').text"
   ]
  },
  {
   "cell_type": "code",
   "execution_count": 9,
   "metadata": {},
   "outputs": [
    {
     "name": "stdout",
     "output_type": "stream",
     "text": [
      "Googletrans是一个免费且不受限制的python库，它实现了Google Translate API。\n"
     ]
    }
   ],
   "source": [
    "# 英译汉\n",
    "result = googletranslator.translate('Googletrans is a free and unlimited python library\\\n",
    "that implemented Google Translate API. ', dest='zh-CN').text\n",
    "print(result)"
   ]
  },
  {
   "cell_type": "code",
   "execution_count": 10,
   "metadata": {},
   "outputs": [
    {
     "name": "stdout",
     "output_type": "stream",
     "text": [
      "the weather is nice today\n"
     ]
    }
   ],
   "source": [
    "# 汉译英\n",
    "result = googletranslator.translate('今天天气不错', dest='en').text\n",
    "print(result)"
   ]
  },
  {
   "cell_type": "code",
   "execution_count": 11,
   "metadata": {},
   "outputs": [
    {
     "name": "stdout",
     "output_type": "stream",
     "text": [
      "こんにちは\n"
     ]
    }
   ],
   "source": [
    "# 英译日\n",
    "result = googletranslator.translate('Hello', dest='ja').text\n",
    "print(result)"
   ]
  },
  {
   "cell_type": "code",
   "execution_count": 12,
   "metadata": {},
   "outputs": [
    {
     "name": "stdout",
     "output_type": "stream",
     "text": [
      "여보세요\n"
     ]
    }
   ],
   "source": [
    "# 英译韩\n",
    "result = googletranslator.translate('Hello', dest='ko').text\n",
    "print(result)"
   ]
  },
  {
   "cell_type": "code",
   "execution_count": 13,
   "metadata": {},
   "outputs": [
    {
     "name": "stdout",
     "output_type": "stream",
     "text": [
      "ja\n",
      "zh-CN\n",
      "en\n"
     ]
    },
    {
     "data": {
      "text/plain": [
       "1.0"
      ]
     },
     "execution_count": 13,
     "metadata": {},
     "output_type": "execute_result"
    }
   ],
   "source": [
    "# 语言检测\n",
    "print(googletranslator.detect('この文章は日本語で書かれました。').lang)\n",
    "print(googletranslator.detect('自然语言处理课程').lang)\n",
    "print(googletranslator.detect('How are you').lang)\n",
    "# 置信度\n",
    "googletranslator.detect('この文章は日本語で書かれました。').confidence"
   ]
  },
  {
   "cell_type": "code",
   "execution_count": 14,
   "metadata": {},
   "outputs": [
    {
     "name": "stdout",
     "output_type": "stream",
     "text": [
      "zh-CN\n",
      "en\n",
      "Hello there\n"
     ]
    }
   ],
   "source": [
    "transModel = googletranslator.translate('你好')\n",
    "print(transModel.src)\n",
    "print(transModel.dest)\n",
    "print(transModel.text)"
   ]
  },
  {
   "cell_type": "code",
   "execution_count": 17,
   "metadata": {},
   "outputs": [
    {
     "ename": "IndentationError",
     "evalue": "unexpected indent (<ipython-input-17-38cd278171c2>, line 3)",
     "output_type": "error",
     "traceback": [
      "\u001b[1;36m  File \u001b[1;32m\"<ipython-input-17-38cd278171c2>\"\u001b[1;36m, line \u001b[1;32m3\u001b[0m\n\u001b[1;33m    print(translation.origin, translation.text)\u001b[0m\n\u001b[1;37m    ^\u001b[0m\n\u001b[1;31mIndentationError\u001b[0m\u001b[1;31m:\u001b[0m unexpected indent\n"
     ]
    }
   ],
   "source": [
    "translations = googletranslator.translate(['The quick brown fox', 'jumps over', 'the lazy dog'], dest='ko') \n",
    "for translation in translations: ... \n",
    "    print(translation.origin, ' -> ', translation.text)"
   ]
  },
  {
   "cell_type": "code",
   "execution_count": null,
   "metadata": {},
   "outputs": [],
   "source": []
  }
 ],
 "metadata": {
  "kernelspec": {
   "display_name": "Python 3",
   "language": "python",
   "name": "python3"
  },
  "language_info": {
   "codemirror_mode": {
    "name": "ipython",
    "version": 3
   },
   "file_extension": ".py",
   "mimetype": "text/x-python",
   "name": "python",
   "nbconvert_exporter": "python",
   "pygments_lexer": "ipython3",
   "version": "3.7.6"
  }
 },
 "nbformat": 4,
 "nbformat_minor": 4
}
